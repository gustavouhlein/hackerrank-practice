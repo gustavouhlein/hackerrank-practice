{
  "nbformat": 4,
  "nbformat_minor": 0,
  "metadata": {
    "colab": {
      "provenance": []
    },
    "kernelspec": {
      "name": "python3",
      "display_name": "Python 3"
    },
    "language_info": {
      "name": "python"
    }
  },
  "cells": [
    {
      "cell_type": "markdown",
      "source": [
        "# 24/04/2024 | Compare The Triplets"
      ],
      "metadata": {
        "id": "st3EtwwoYlZK"
      }
    },
    {
      "cell_type": "code",
      "source": [
        "#!/bin/python3\n",
        "\n",
        "import math\n",
        "import os\n",
        "import random\n",
        "import re\n",
        "import sys\n",
        "\n",
        "#\n",
        "# Complete the 'compareTriplets' function below.\n",
        "#\n",
        "# The function is expected to return an INTEGER_ARRAY.\n",
        "# The function accepts following parameters:\n",
        "#  1. INTEGER_ARRAY a\n",
        "#  2. INTEGER_ARRAY b\n",
        "#\n",
        "\n",
        "def compareTriplets(a, b):\n",
        "  a_score = 0\n",
        "  b_score = 0\n",
        "  for i in range(3):\n",
        "    if(a[i] > b[i]):\n",
        "      a_score += 1\n",
        "    elif(a[i] < b[i]):\n",
        "      b_score += 1\n",
        "  return [a_score, b_score]\n",
        "\n",
        "\n",
        "a = list(map(int, input().rstrip().split()))\n",
        "b = list(map(int, input().rstrip().split()))\n",
        "result = compareTriplets(a, b)\n",
        "print(result)"
      ],
      "metadata": {
        "colab": {
          "base_uri": "https://localhost:8080/"
        },
        "id": "wYtaLHnCY0i-",
        "outputId": "4bd95562-d20a-4a54-9bd2-b4cf7242cd93"
      },
      "execution_count": null,
      "outputs": [
        {
          "output_type": "stream",
          "name": "stdout",
          "text": [
            "3 1 2\n",
            "3 2 1\n",
            "[1, 1]\n"
          ]
        }
      ]
    },
    {
      "cell_type": "markdown",
      "source": [
        "# 24/04/2024 | A Very Big Sum\n"
      ],
      "metadata": {
        "id": "60CfDPGQat6J"
      }
    },
    {
      "cell_type": "code",
      "source": [
        "def aVeryBigSum(ar):\n",
        "    sum = 0\n",
        "    for i in ar:\n",
        "      sum += i\n",
        "    return sum\n",
        "\n",
        "\n",
        "ar_count = int(input().strip())\n",
        "ar = list(map(int, input().rstrip().split()))\n",
        "result = aVeryBigSum(ar)\n",
        "print(result)"
      ],
      "metadata": {
        "colab": {
          "base_uri": "https://localhost:8080/"
        },
        "id": "ReTnEVIDbcRU",
        "outputId": "7c061148-8e2d-4f7b-9ca8-6b334da9faa4"
      },
      "execution_count": null,
      "outputs": [
        {
          "output_type": "stream",
          "name": "stdout",
          "text": [
            "5\n",
            "1000000001 1000000002 1000000003 1000000004 1000000005\n",
            "5000000015\n"
          ]
        }
      ]
    },
    {
      "cell_type": "markdown",
      "source": [
        "# 24/04/2024 | Diagonal Difference"
      ],
      "metadata": {
        "id": "40GciwvEcdjO"
      }
    },
    {
      "cell_type": "code",
      "source": [
        "#!/bin/python3\n",
        "\n",
        "import math\n",
        "import os\n",
        "import random\n",
        "import re\n",
        "import sys\n",
        "\n",
        "#\n",
        "# Complete the 'diagonalDifference' function below.\n",
        "#\n",
        "# The function is expected to return an INTEGER.\n",
        "# The function accepts 2D_INTEGER_ARRAY arr as parameter.\n",
        "#\n",
        "\n",
        "def diagonalDifference(arr):\n",
        "    sum_diagonal_1 = 0\n",
        "    sum_diagonal_2 = 0\n",
        "    for i in range(len(arr)):\n",
        "      sum_diagonal_1 += arr[i][i]\n",
        "      sum_diagonal_2 += arr[i][len(arr) - i - 1]\n",
        "    return abs(sum_diagonal_1 - sum_diagonal_2)\n",
        "\n",
        "\n",
        "n = int(input().strip())\n",
        "arr = []\n",
        "for _ in range(n):\n",
        "  arr.append(list(map(int, input().rstrip().split())))\n",
        "result = diagonalDifference(arr)\n",
        "print(result)"
      ],
      "metadata": {
        "colab": {
          "base_uri": "https://localhost:8080/"
        },
        "id": "7vRLKsMHcicB",
        "outputId": "8a69a6fe-5dfb-4b80-9c99-ca182247a295"
      },
      "execution_count": null,
      "outputs": [
        {
          "output_type": "stream",
          "name": "stdout",
          "text": [
            "3\n",
            "1 2 3\n",
            "4 5 6\n",
            "9 8 9  \n",
            "2\n"
          ]
        }
      ]
    },
    {
      "cell_type": "markdown",
      "source": [
        "# 24/04/2024 | Plus Minus"
      ],
      "metadata": {
        "id": "VaxuVN8ifue6"
      }
    },
    {
      "cell_type": "code",
      "source": [
        "#!/bin/python3\n",
        "\n",
        "import math\n",
        "import os\n",
        "import random\n",
        "import re\n",
        "import sys\n",
        "\n",
        "#\n",
        "# Complete the 'plusMinus' function below.\n",
        "#\n",
        "# The function accepts INTEGER_ARRAY arr as parameter.\n",
        "#\n",
        "\n",
        "def plusMinus(arr):\n",
        "  length = len(arr)\n",
        "  positives = 0\n",
        "  negatives = 0\n",
        "  zeros = 0\n",
        "  for i in arr:\n",
        "    if(i > 0):\n",
        "      positives += 1\n",
        "    elif(i < 0):\n",
        "      negatives += 1\n",
        "    else:\n",
        "      zeros += 1\n",
        "  positives_occurrence = round(positives/length, 6)\n",
        "  negatives_occurrence = round(negatives/length, 6)\n",
        "  zeros_occurrence = round(zeros/length, 6)\n",
        "  print(\"{:.6f}\".format(positives_occurrence))\n",
        "  print(\"{:.6f}\".format(negatives_occurrence))\n",
        "  print(\"{:.6f}\".format(zeros_occurrence))\n",
        "\n",
        "\n",
        "n = int(input().strip())\n",
        "arr = list(map(int, input().rstrip().split()))\n",
        "plusMinus(arr)"
      ],
      "metadata": {
        "colab": {
          "base_uri": "https://localhost:8080/"
        },
        "id": "XvktoFp_gA7d",
        "outputId": "0899006f-075b-45fa-d156-c5e5b89b7ac2"
      },
      "execution_count": null,
      "outputs": [
        {
          "output_type": "stream",
          "name": "stdout",
          "text": [
            "6\n",
            "-4 3 -9 0 4 1\n",
            "0.500000\n",
            "-0.333333\n",
            "0.166667\n"
          ]
        }
      ]
    },
    {
      "cell_type": "markdown",
      "source": [
        "# 24/04/2024 | Staircase"
      ],
      "metadata": {
        "id": "bqhzOUsPkl5D"
      }
    },
    {
      "cell_type": "code",
      "source": [
        "#!/bin/python3\n",
        "\n",
        "import math\n",
        "import os\n",
        "import random\n",
        "import re\n",
        "import sys\n",
        "\n",
        "#\n",
        "# Complete the 'staircase' function below.\n",
        "#\n",
        "# The function accepts INTEGER n as parameter.\n",
        "#\n",
        "\n",
        "def staircase(n):\n",
        "    for i in range(n):\n",
        "      for j in range(n):\n",
        "        if j+1 == n:\n",
        "          print('#')\n",
        "        elif j+1 < n-i:\n",
        "          print(' ', end='')\n",
        "        else:\n",
        "          print('#', end = '')\n",
        "\n",
        "\n",
        "n = int(input().strip())\n",
        "staircase(n)"
      ],
      "metadata": {
        "colab": {
          "base_uri": "https://localhost:8080/"
        },
        "id": "otxTKVUKkqWR",
        "outputId": "a43c7874-0391-4b4c-900a-446236d02304"
      },
      "execution_count": null,
      "outputs": [
        {
          "output_type": "stream",
          "name": "stdout",
          "text": [
            "3\n",
            "  #\n",
            " ##\n",
            "###\n"
          ]
        }
      ]
    },
    {
      "cell_type": "markdown",
      "source": [
        "# 24/04/2024 | Min-Max Sum"
      ],
      "metadata": {
        "id": "7AgwEzDntPM2"
      }
    },
    {
      "cell_type": "code",
      "source": [
        "#!/bin/python3\n",
        "\n",
        "import math\n",
        "import os\n",
        "import random\n",
        "import re\n",
        "import sys\n",
        "\n",
        "#\n",
        "# Complete the 'miniMaxSum' function below.\n",
        "#\n",
        "# The function accepts INTEGER_ARRAY arr as parameter.\n",
        "#\n",
        "\n",
        "def miniMaxSum(arr):\n",
        "    array_max = sorted(arr, reverse=True)\n",
        "    array_min = sorted(arr)\n",
        "    max_sum = 0\n",
        "    min_sum = 0\n",
        "    for i in range(4):\n",
        "      max_sum += array_max[i]\n",
        "      min_sum += array_min[i]\n",
        "    print(f'{min_sum} {max_sum}')\n",
        "\n",
        "\n",
        "arr = list(map(int, input().rstrip().split()))\n",
        "miniMaxSum(arr)"
      ],
      "metadata": {
        "colab": {
          "base_uri": "https://localhost:8080/"
        },
        "id": "wvshjO2XtVkN",
        "outputId": "e37bba16-25d4-488f-dd32-295363bc29ed"
      },
      "execution_count": null,
      "outputs": [
        {
          "output_type": "stream",
          "name": "stdout",
          "text": [
            "1 3 5 7 9\n",
            "16 24\n"
          ]
        }
      ]
    },
    {
      "cell_type": "markdown",
      "source": [
        "# 24/04/2024 | Birthday Cake Candles"
      ],
      "metadata": {
        "id": "ruXpeLD3wV_N"
      }
    },
    {
      "cell_type": "code",
      "source": [
        "#!/bin/python3\n",
        "\n",
        "import math\n",
        "import os\n",
        "import random\n",
        "import re\n",
        "import sys\n",
        "\n",
        "#\n",
        "# Complete the 'birthdayCakeCandles' function below.\n",
        "#\n",
        "# The function is expected to return an INTEGER.\n",
        "# The function accepts INTEGER_ARRAY candles as parameter.\n",
        "#\n",
        "\n",
        "def birthdayCakeCandles(candles):\n",
        "    tallest = 0\n",
        "    count = 0\n",
        "    for candle in candles:\n",
        "      if candle > tallest:\n",
        "        tallest = candle\n",
        "        count = 0\n",
        "      if candle == tallest:\n",
        "        count += 1\n",
        "    return count\n",
        "\n",
        "\n",
        "candles_count = int(input().strip())\n",
        "candles = list(map(int, input().rstrip().split()))\n",
        "result = birthdayCakeCandles(candles)\n",
        "print(result)"
      ],
      "metadata": {
        "colab": {
          "base_uri": "https://localhost:8080/"
        },
        "id": "XbPN8P7MwT8S",
        "outputId": "6399ca74-a147-49a2-9096-12f01f263d2e"
      },
      "execution_count": null,
      "outputs": [
        {
          "output_type": "stream",
          "name": "stdout",
          "text": [
            "4\n",
            "3 2 1 3\n",
            "2\n"
          ]
        }
      ]
    },
    {
      "cell_type": "markdown",
      "source": [
        "# 25/04/2024 | Migratory Birds"
      ],
      "metadata": {
        "id": "qjV94PT-HcDI"
      }
    },
    {
      "cell_type": "code",
      "source": [
        "#!/bin/python3\n",
        "\n",
        "import math\n",
        "import os\n",
        "import random\n",
        "import re\n",
        "import sys\n",
        "\n",
        "#\n",
        "# Complete the 'migratoryBirds' function below.\n",
        "#\n",
        "# The function is expected to return an INTEGER.\n",
        "# The function accepts INTEGER_ARRAY arr as parameter.\n",
        "#\n",
        "\n",
        "def migratoryBirds(arr):\n",
        "  bird_types = set(arr)\n",
        "  bird_recurrence = {}\n",
        "  for bird_type in bird_types:\n",
        "    bird_recurrence[bird_type] = arr.count(bird_type)\n",
        "  max_recurrence = max(bird_recurrence.values())\n",
        "  bird_types_with_max_recurrence = [bird_type for bird_type, valor in bird_recurrence.items() if valor == max_recurrence]\n",
        "  return min(bird_types_with_max_recurrence)\n",
        "\n",
        "\n",
        "arr_count = int(input().strip())\n",
        "arr = list(map(int, input().rstrip().split()))\n",
        "result = migratoryBirds(arr)\n",
        "print(result)"
      ],
      "metadata": {
        "colab": {
          "base_uri": "https://localhost:8080/"
        },
        "id": "qpLWWlHlHcjt",
        "outputId": "b5e07b67-2710-4d23-d470-a9bcd771f3f3"
      },
      "execution_count": null,
      "outputs": [
        {
          "output_type": "stream",
          "name": "stdout",
          "text": [
            "11\n",
            "1 2 3 4 5 4 3 2 1 3 4\n",
            "3\n"
          ]
        }
      ]
    },
    {
      "cell_type": "markdown",
      "source": [
        "# 26/04/2024 | Time Conversion"
      ],
      "metadata": {
        "id": "FzxC4T995in1"
      }
    },
    {
      "cell_type": "code",
      "source": [
        "#!/bin/python3\n",
        "\n",
        "import math\n",
        "import os\n",
        "import random\n",
        "import re\n",
        "import sys\n",
        "\n",
        "#\n",
        "# Complete the 'timeConversion' function below.\n",
        "#\n",
        "# The function is expected to return a STRING.\n",
        "# The function accepts STRING s as parameter.\n",
        "#\n",
        "\n",
        "def timeConversion(s):\n",
        "  hours = int(s[0:2])\n",
        "  minutes = s[3:5]\n",
        "  seconds = s[6:8]\n",
        "  format = s[8:10]\n",
        "  if format == 'AM' and hours >= 12:\n",
        "    hours -= 12\n",
        "  elif format == 'PM' and hours < 12:\n",
        "    hours += 12\n",
        "  hours = str(hours).zfill(2)\n",
        "  return f'{hours}:{minutes}:{seconds}'\n",
        "\n",
        "\n",
        "s = input()\n",
        "result = timeConversion(s)\n",
        "print(result)"
      ],
      "metadata": {
        "id": "7Y1H3HKb5oW2"
      },
      "execution_count": null,
      "outputs": []
    },
    {
      "cell_type": "markdown",
      "source": [
        "# 26/04/2024 | Grading Students"
      ],
      "metadata": {
        "id": "etcNFKp_vztN"
      }
    },
    {
      "cell_type": "code",
      "source": [
        "#!/bin/python3\n",
        "\n",
        "import math\n",
        "import os\n",
        "import random\n",
        "import re\n",
        "import sys\n",
        "\n",
        "#\n",
        "# Complete the 'gradingStudents' function below.\n",
        "#\n",
        "# The function is expected to return an INTEGER_ARRAY.\n",
        "# The function accepts INTEGER_ARRAY grades as parameter.\n",
        "#\n",
        "\n",
        "def gradingStudents(grades):\n",
        "  for idx, grade in enumerate(grades):\n",
        "    is_multiple = False\n",
        "    multiple = grade-1\n",
        "    while not is_multiple:\n",
        "      multiple += 1\n",
        "      if(multiple%5 == 0):\n",
        "        is_multiple = True\n",
        "    if multiple - grade < 3 and grade >= 38:\n",
        "      grades[idx] = multiple\n",
        "  return grades\n",
        "\n",
        "\n",
        "grades_count = int(input().strip())\n",
        "grades = []\n",
        "for _ in range(grades_count):\n",
        "  grades_item = int(input().strip())\n",
        "  grades.append(grades_item)\n",
        "result = gradingStudents(grades)\n",
        "print(result)"
      ],
      "metadata": {
        "colab": {
          "base_uri": "https://localhost:8080/"
        },
        "id": "TV2VHe_Xv0Xn",
        "outputId": "c6b89d3f-c763-4f1d-e9f8-565e79d41c7e"
      },
      "execution_count": null,
      "outputs": [
        {
          "output_type": "stream",
          "name": "stdout",
          "text": [
            "4\n",
            "73\n",
            "67\n",
            "38\n",
            "33\n",
            "[75, 67, 40, 35]\n"
          ]
        }
      ]
    },
    {
      "cell_type": "markdown",
      "source": [
        "# 26/04/2024 | Apple and Orange"
      ],
      "metadata": {
        "id": "mkPhoTSx1RMP"
      }
    },
    {
      "cell_type": "code",
      "source": [
        "#!/bin/python3\n",
        "\n",
        "import math\n",
        "import os\n",
        "import random\n",
        "import re\n",
        "import sys\n",
        "\n",
        "#\n",
        "# Complete the 'countApplesAndOranges' function below.\n",
        "#\n",
        "# The function accepts following parameters:\n",
        "#  1. INTEGER s\n",
        "#  2. INTEGER t\n",
        "#  3. INTEGER a\n",
        "#  4. INTEGER b\n",
        "#  5. INTEGER_ARRAY apples\n",
        "#  6. INTEGER_ARRAY oranges\n",
        "#\n",
        "\n",
        "def countApplesAndOranges(s, t, a, b, apples, oranges):\n",
        "    apple_positions = []\n",
        "    orange_positions = []\n",
        "    apples_in_house = 0\n",
        "    oranges_in_house = 0\n",
        "    for apple in apples:\n",
        "      apple_positions.append(a + apple)\n",
        "    for orange in oranges:\n",
        "      orange_positions.append(b + orange)\n",
        "    for apple_position in apple_positions:\n",
        "      if(s <= apple_position <= t):\n",
        "        apples_in_house += 1\n",
        "    for orange_position in orange_positions:\n",
        "      if(s <= orange_position <= t):\n",
        "        oranges_in_house += 1\n",
        "    print(apples_in_house)\n",
        "    print(oranges_in_house)\n",
        "\n",
        "\n",
        "first_multiple_input = input().rstrip().split()\n",
        "s = int(first_multiple_input[0])\n",
        "t = int(first_multiple_input[1])\n",
        "second_multiple_input = input().rstrip().split()\n",
        "a = int(second_multiple_input[0])\n",
        "b = int(second_multiple_input[1])\n",
        "third_multiple_input = input().rstrip().split()\n",
        "m = int(third_multiple_input[0])\n",
        "n = int(third_multiple_input[1])\n",
        "apples = list(map(int, input().rstrip().split()))\n",
        "oranges = list(map(int, input().rstrip().split()))\n",
        "countApplesAndOranges(s, t, a, b, apples, oranges)"
      ],
      "metadata": {
        "colab": {
          "base_uri": "https://localhost:8080/"
        },
        "id": "jATig_ge1Xfx",
        "outputId": "c13b1881-6059-47a0-d002-8fdd0fe7c3e2"
      },
      "execution_count": null,
      "outputs": [
        {
          "output_type": "stream",
          "name": "stdout",
          "text": [
            "7 11\n",
            "5 15\n",
            "3 2\n",
            "-2 2 1\n",
            "5 -6\n",
            "1\n",
            "1\n"
          ]
        }
      ]
    },
    {
      "cell_type": "markdown",
      "source": [
        "# 26/04/2024 | Number Line Jumps"
      ],
      "metadata": {
        "id": "_oCHDi5L5uWO"
      }
    },
    {
      "cell_type": "code",
      "source": [
        "#!/bin/python3\n",
        "\n",
        "import math\n",
        "import os\n",
        "import random\n",
        "import re\n",
        "import sys\n",
        "\n",
        "#\n",
        "# Complete the 'kangaroo' function below.\n",
        "#\n",
        "# The function is expected to return a STRING.\n",
        "# The function accepts following parameters:\n",
        "#  1. INTEGER x1\n",
        "#  2. INTEGER v1\n",
        "#  3. INTEGER x2\n",
        "#  4. INTEGER v2\n",
        "#\n",
        "\n",
        "def kangaroo(x1, v1, x2, v2):\n",
        "  if(x1 < x2 and v1 <= v2) or (x2 < x1 and v2 <= v1):\n",
        "    return 'NO'\n",
        "  return 'YES' if ((x2 - x1) / (v1 - v2)).is_integer() and (x2 - x1) / (v1 - v2) >= 0 else 'NO'\n",
        "\n",
        "\n",
        "first_multiple_input = input().rstrip().split()\n",
        "x1 = int(first_multiple_input[0])\n",
        "v1 = int(first_multiple_input[1])\n",
        "x2 = int(first_multiple_input[2])\n",
        "v2 = int(first_multiple_input[3])\n",
        "result = kangaroo(x1, v1, x2, v2)\n",
        "print(result)"
      ],
      "metadata": {
        "colab": {
          "base_uri": "https://localhost:8080/"
        },
        "id": "19lqBEOc50MH",
        "outputId": "5f28bfd7-fac7-4efd-f574-03e918ed2818"
      },
      "execution_count": null,
      "outputs": [
        {
          "output_type": "stream",
          "name": "stdout",
          "text": [
            "0 3 4 2\n",
            "YES\n"
          ]
        }
      ]
    },
    {
      "cell_type": "markdown",
      "source": [
        "# 26/04/2024 | Breaking The Records"
      ],
      "metadata": {
        "id": "1MrdxE0ASO0q"
      }
    },
    {
      "cell_type": "code",
      "source": [
        "#!/bin/python3\n",
        "\n",
        "import math\n",
        "import os\n",
        "import random\n",
        "import re\n",
        "import sys\n",
        "\n",
        "#\n",
        "# Complete the 'breakingRecords' function below.\n",
        "#\n",
        "# The function is expected to return an INTEGER_ARRAY.\n",
        "# The function accepts INTEGER_ARRAY scores as parameter.\n",
        "#\n",
        "\n",
        "def breakingRecords(scores):\n",
        "    record_min = scores[0]\n",
        "    record_max = scores[0]\n",
        "    count_records_min = 0\n",
        "    count_records_max = 0\n",
        "    for score in scores:\n",
        "      if score < record_min:\n",
        "        record_min = score\n",
        "        count_records_min += 1\n",
        "      elif score > record_max:\n",
        "        record_max = score\n",
        "        count_records_max += 1\n",
        "    return [count_records_max, count_records_min]\n",
        "\n",
        "\n",
        "n = int(input().strip())\n",
        "scores = list(map(int, input().rstrip().split()))\n",
        "result = breakingRecords(scores)\n",
        "print(result)"
      ],
      "metadata": {
        "id": "jpyvhKN4SOVx",
        "colab": {
          "base_uri": "https://localhost:8080/"
        },
        "outputId": "b453ac77-aabe-4a3b-c75f-e337b9fa3969"
      },
      "execution_count": null,
      "outputs": [
        {
          "output_type": "stream",
          "name": "stdout",
          "text": [
            "9\n",
            "10 5 20 20 4 5 2 25 1\n",
            "[4, 2]\n"
          ]
        }
      ]
    },
    {
      "cell_type": "markdown",
      "source": [
        "# 26/04/2024 | Subarray Division"
      ],
      "metadata": {
        "id": "d_-KDVUFYyY6"
      }
    },
    {
      "cell_type": "code",
      "source": [
        "#!/bin/python3\n",
        "\n",
        "import math\n",
        "import os\n",
        "import random\n",
        "import re\n",
        "import sys\n",
        "\n",
        "#\n",
        "# Complete the 'birthday' function below.\n",
        "#\n",
        "# The function is expected to return an INTEGER.\n",
        "# The function accepts following parameters:\n",
        "#  1. INTEGER_ARRAY s\n",
        "#  2. INTEGER d\n",
        "#  3. INTEGER m\n",
        "#\n",
        "\n",
        "def birthday(s, d, m):\n",
        "    num_ways = 0\n",
        "    seg = []\n",
        "    for bar in s:\n",
        "      seg.append(bar)\n",
        "      if len(seg) == m:\n",
        "        if sum(seg) == d:\n",
        "          num_ways += 1\n",
        "        del seg[0]\n",
        "    return num_ways\n",
        "\n",
        "\n",
        "n = int(input().strip())\n",
        "s = list(map(int, input().rstrip().split()))\n",
        "first_multiple_input = input().rstrip().split()\n",
        "d = int(first_multiple_input[0])\n",
        "m = int(first_multiple_input[1])\n",
        "result = birthday(s, d, m)\n",
        "print(result)"
      ],
      "metadata": {
        "id": "eGPTMng_Y4x-",
        "outputId": "c8e5844b-f115-4d83-efa7-c01cedc15374",
        "colab": {
          "base_uri": "https://localhost:8080/"
        }
      },
      "execution_count": null,
      "outputs": [
        {
          "output_type": "stream",
          "name": "stdout",
          "text": [
            "1\n",
            "4\n",
            "4 1\n",
            "1\n"
          ]
        }
      ]
    },
    {
      "cell_type": "markdown",
      "source": [
        "# 27/04/2024 | Between Two Sets"
      ],
      "metadata": {
        "id": "28m4yE0ivqhY"
      }
    },
    {
      "cell_type": "code",
      "source": [
        "#!/bin/python3\n",
        "\n",
        "import math\n",
        "import os\n",
        "import random\n",
        "import re\n",
        "import sys\n",
        "\n",
        "#\n",
        "# Complete the 'getTotalX' function below.\n",
        "#\n",
        "# The function is expected to return an INTEGER.\n",
        "# The function accepts following parameters:\n",
        "#  1. INTEGER_ARRAY a\n",
        "#  2. INTEGER_ARRAY b\n",
        "#\n",
        "\n",
        "def getTotalX(a, b):\n",
        "  min_value_b = min(b)\n",
        "  numbers_1 = []\n",
        "  numbers_2 = []\n",
        "  for i in range(1, min_value_b+1):\n",
        "    division = True\n",
        "    for num in a:\n",
        "      if i%num != 0:\n",
        "        division = False\n",
        "        break\n",
        "    if division:\n",
        "      numbers_1.append(i)\n",
        "  for i in numbers_1:\n",
        "    division = True\n",
        "    for num in b:\n",
        "      if num%i != 0:\n",
        "        division = False\n",
        "        break\n",
        "    if division:\n",
        "      numbers_2.append(i)\n",
        "  return len(numbers_2)\n",
        "\n",
        "\n",
        "first_multiple_input = input().rstrip().split()\n",
        "n = int(first_multiple_input[0])\n",
        "m = int(first_multiple_input[1])\n",
        "arr = list(map(int, input().rstrip().split()))\n",
        "brr = list(map(int, input().rstrip().split()))\n",
        "total = getTotalX(arr, brr)\n",
        "print(total)"
      ],
      "metadata": {
        "colab": {
          "base_uri": "https://localhost:8080/"
        },
        "id": "8kb6JpGNv4Sm",
        "outputId": "5920e608-154b-4a3e-eca3-b21bea72bf98"
      },
      "execution_count": null,
      "outputs": [
        {
          "output_type": "stream",
          "name": "stdout",
          "text": [
            "2 2\n",
            "2 6\n",
            "24 36\n",
            "2\n"
          ]
        }
      ]
    },
    {
      "cell_type": "markdown",
      "source": [
        "# 27/04/2024 | Divisible Sum Pairs"
      ],
      "metadata": {
        "id": "AZ-xSxhqAFv4"
      }
    },
    {
      "cell_type": "code",
      "source": [
        "#!/bin/python3\n",
        "\n",
        "import math\n",
        "import os\n",
        "import random\n",
        "import re\n",
        "import sys\n",
        "\n",
        "#\n",
        "# Complete the 'divisibleSumPairs' function below.\n",
        "#\n",
        "# The function is expected to return an INTEGER.\n",
        "# The function accepts following parameters:\n",
        "#  1. INTEGER n\n",
        "#  2. INTEGER k\n",
        "#  3. INTEGER_ARRAY ar\n",
        "#\n",
        "\n",
        "def divisibleSumPairs(n, k, ar):\n",
        "  pairs_count = 0\n",
        "  for i in range(n):\n",
        "    for j in range(n):\n",
        "      if i < j:\n",
        "        break\n",
        "      if i != j and (ar[i]+ar[j]) % k == 0:\n",
        "        pairs_count += 1\n",
        "  return pairs_count\n",
        "\n",
        "\n",
        "first_multiple_input = input().rstrip().split()\n",
        "n = int(first_multiple_input[0])\n",
        "k = int(first_multiple_input[1])\n",
        "ar = list(map(int, input().rstrip().split()))\n",
        "result = divisibleSumPairs(n, k, ar)\n",
        "print(result)"
      ],
      "metadata": {
        "colab": {
          "base_uri": "https://localhost:8080/"
        },
        "id": "lLTzzRoWAKQZ",
        "outputId": "854dc895-e192-49b5-a1f6-9f8b2a1371fe"
      },
      "execution_count": null,
      "outputs": [
        {
          "output_type": "stream",
          "name": "stdout",
          "text": [
            "6 3\n",
            "1 3 2 6 1 2\n",
            "5\n"
          ]
        }
      ]
    },
    {
      "cell_type": "markdown",
      "source": [
        "# 27/04/2024 | Day of The Programmer"
      ],
      "metadata": {
        "id": "rIljX3-rFHB2"
      }
    },
    {
      "cell_type": "code",
      "source": [
        "#!/bin/python3\n",
        "\n",
        "import math\n",
        "import os\n",
        "import random\n",
        "import re\n",
        "import sys\n",
        "\n",
        "#\n",
        "# Complete the 'dayOfProgrammer' function below.\n",
        "#\n",
        "# The function is expected to return a STRING.\n",
        "# The function accepts INTEGER year as parameter.\n",
        "#\n",
        "\n",
        "def dayOfProgrammer(year):\n",
        "  if year < 1918:\n",
        "    if year%4 == 0:\n",
        "      return f'12.09.{year}'\n",
        "    else:\n",
        "      return f'13.09.{year}'\n",
        "  elif year > 1918:\n",
        "    if (year%400 == 0 or (year%4 == 0 and year%100 != 0)):\n",
        "      return f'12.09.{year}'\n",
        "    else:\n",
        "      return f'13.09.{year}'\n",
        "  else:\n",
        "    return '27.09.1918'\n",
        "\n",
        "\n",
        "year = int(input().strip())\n",
        "result = dayOfProgrammer(year)\n",
        "print(result)"
      ],
      "metadata": {
        "colab": {
          "base_uri": "https://localhost:8080/"
        },
        "id": "y0AomWsgTYaV",
        "outputId": "f5fd7279-599c-494e-c2f0-8589b88eef83"
      },
      "execution_count": null,
      "outputs": [
        {
          "output_type": "stream",
          "name": "stdout",
          "text": [
            "1800\n",
            "12.09.1800\n"
          ]
        }
      ]
    },
    {
      "cell_type": "markdown",
      "source": [
        "# 27/04/2024 | Bill Division"
      ],
      "metadata": {
        "id": "ho3AtDCyabIJ"
      }
    },
    {
      "cell_type": "code",
      "source": [
        "#!/bin/python3\n",
        "\n",
        "import math\n",
        "import os\n",
        "import random\n",
        "import re\n",
        "import sys\n",
        "\n",
        "#\n",
        "# Complete the 'bonAppetit' function below.\n",
        "#\n",
        "# The function accepts following parameters:\n",
        "#  1. INTEGER_ARRAY bill\n",
        "#  2. INTEGER k\n",
        "#  3. INTEGER b\n",
        "#\n",
        "\n",
        "def bonAppetit(bill, k, b):\n",
        "    cost_dif = int(abs((sum(bill) - bill[k])/2 - b))\n",
        "    print('Bon Appetit' if cost_dif == 0 else cost_dif)\n",
        "\n",
        "\n",
        "first_multiple_input = input().rstrip().split()\n",
        "n = int(first_multiple_input[0])\n",
        "k = int(first_multiple_input[1])\n",
        "bill = list(map(int, input().rstrip().split()))\n",
        "b = int(input().strip())\n",
        "bonAppetit(bill, k, b)"
      ],
      "metadata": {
        "colab": {
          "base_uri": "https://localhost:8080/"
        },
        "id": "Ca-2fIkRagvw",
        "outputId": "7a87d58e-bb81-4a03-edbf-8fb98ef92b42"
      },
      "execution_count": null,
      "outputs": [
        {
          "output_type": "stream",
          "name": "stdout",
          "text": [
            "4 1\n",
            "3 10 2 9\n",
            "12\n",
            "5\n"
          ]
        }
      ]
    },
    {
      "cell_type": "markdown",
      "source": [
        "# 27/04/2024 | Sales by Match"
      ],
      "metadata": {
        "id": "tIuLZmDNqDFT"
      }
    },
    {
      "cell_type": "code",
      "source": [
        "#!/bin/python3\n",
        "\n",
        "import math\n",
        "import os\n",
        "import random\n",
        "import re\n",
        "import sys\n",
        "\n",
        "#\n",
        "# Complete the 'sockMerchant' function below.\n",
        "#\n",
        "# The function is expected to return an INTEGER.\n",
        "# The function accepts following parameters:\n",
        "#  1. INTEGER n\n",
        "#  2. INTEGER_ARRAY ar\n",
        "#\n",
        "\n",
        "def sockMerchant(n, ar):\n",
        "  count = 0\n",
        "  colors = set(ar)\n",
        "  for color in colors:\n",
        "    count += int(ar.count(color) / 2)\n",
        "  return count\n",
        "\n",
        "\n",
        "n = int(input().strip())\n",
        "ar = list(map(int, input().rstrip().split()))\n",
        "result = sockMerchant(n, ar)\n",
        "print(result)"
      ],
      "metadata": {
        "colab": {
          "base_uri": "https://localhost:8080/"
        },
        "id": "EuwnAnkbqSq8",
        "outputId": "55644449-081d-42fc-ed85-0beb604e1136"
      },
      "execution_count": null,
      "outputs": [
        {
          "output_type": "stream",
          "name": "stdout",
          "text": [
            "9\n",
            "10 20 20 10 10 30 50 10 20\n",
            "3\n"
          ]
        }
      ]
    },
    {
      "cell_type": "markdown",
      "source": [
        "# 27/04/2024 | Drawing Book"
      ],
      "metadata": {
        "id": "DntlqannuBJj"
      }
    },
    {
      "cell_type": "code",
      "source": [
        "#!/bin/python3\n",
        "\n",
        "import math\n",
        "import os\n",
        "import random\n",
        "import re\n",
        "import sys\n",
        "\n",
        "#\n",
        "# Complete the 'pageCount' function below.\n",
        "#\n",
        "# The function is expected to return an INTEGER.\n",
        "# The function accepts following parameters:\n",
        "#  1. INTEGER n\n",
        "#  2. INTEGER p\n",
        "#\n",
        "\n",
        "def pageCount(n, p):\n",
        "  total = n // 2\n",
        "  pages = p // 2\n",
        "  return pages if pages < total - pages else total - pages\n",
        "\n",
        "\n",
        "n = int(input().strip())\n",
        "p = int(input().strip())\n",
        "result = pageCount(n, p)\n",
        "print(result)"
      ],
      "metadata": {
        "colab": {
          "base_uri": "https://localhost:8080/"
        },
        "id": "dXtZ4rURuQMT",
        "outputId": "097ff20e-68ea-475f-ce53-367358f17d14"
      },
      "execution_count": null,
      "outputs": [
        {
          "output_type": "stream",
          "name": "stdout",
          "text": [
            "4\n",
            "5\n",
            "0\n"
          ]
        }
      ]
    },
    {
      "cell_type": "markdown",
      "source": [
        "# 28/04/2024 | Counting Valleys"
      ],
      "metadata": {
        "id": "ibiRkqGWG1YQ"
      }
    },
    {
      "cell_type": "code",
      "source": [
        "#!/bin/python3\n",
        "\n",
        "import math\n",
        "import os\n",
        "import random\n",
        "import re\n",
        "import sys\n",
        "\n",
        "#\n",
        "# Complete the 'countingValleys' function below.\n",
        "#\n",
        "# The function is expected to return an INTEGER.\n",
        "# The function accepts following parameters:\n",
        "#  1. INTEGER steps\n",
        "#  2. STRING path\n",
        "#\n",
        "\n",
        "def countingValleys(steps, path):\n",
        "    valleys_count = 0\n",
        "    hiker_level = 0\n",
        "    in_valley = False\n",
        "    for i in path:\n",
        "      if i == 'U':\n",
        "        hiker_level += 1\n",
        "      else:\n",
        "        hiker_level -= 1\n",
        "      if hiker_level < 0 and not in_valley:\n",
        "        valleys_count += 1\n",
        "        in_valley = True\n",
        "      elif hiker_level >= 0 and in_valley:\n",
        "        in_valley = False\n",
        "    return valleys_count\n",
        "\n",
        "\n",
        "steps = int(input().strip())\n",
        "path = input()\n",
        "result = countingValleys(steps, path)\n",
        "print(result)"
      ],
      "metadata": {
        "id": "f7p9rDCDG5RA",
        "outputId": "f8df1235-dab9-4255-bb11-03a101855d7f",
        "colab": {
          "base_uri": "https://localhost:8080/"
        }
      },
      "execution_count": null,
      "outputs": [
        {
          "output_type": "stream",
          "name": "stdout",
          "text": [
            "12\n",
            "DDUUDDUDUUUD\n",
            "1\n"
          ]
        }
      ]
    },
    {
      "cell_type": "markdown",
      "source": [
        "# 28/04/2024 | Eletronics Shop"
      ],
      "metadata": {
        "id": "xcTxuaCYKjcb"
      }
    },
    {
      "cell_type": "code",
      "source": [
        "#!/bin/python3\n",
        "\n",
        "import os\n",
        "import sys\n",
        "\n",
        "#\n",
        "# Complete the getMoneySpent function below.\n",
        "#\n",
        "def getMoneySpent(keyboards, drives, b):\n",
        "  budget_spent = -1\n",
        "  for keyboard in keyboards:\n",
        "    for drive in drives:\n",
        "      cost = keyboard + drive\n",
        "      if cost <= b and cost > budget_spent:\n",
        "        budget_spent = cost\n",
        "  return budget_spent\n",
        "\n",
        "\n",
        "bnm = input().split()\n",
        "b = int(bnm[0])\n",
        "n = int(bnm[1])\n",
        "m = int(bnm[2])\n",
        "keyboards = list(map(int, input().rstrip().split()))\n",
        "drives = list(map(int, input().rstrip().split()))\n",
        "moneySpent = getMoneySpent(keyboards, drives, b)\n",
        "print(moneySpent)"
      ],
      "metadata": {
        "id": "2nxxDJC-KWEz",
        "outputId": "22372e3a-3c51-45dc-d3f6-0813e3b60ed6",
        "colab": {
          "base_uri": "https://localhost:8080/"
        }
      },
      "execution_count": null,
      "outputs": [
        {
          "output_type": "stream",
          "name": "stdout",
          "text": [
            "10 2 3\n",
            "3 1\n",
            "5 2 8\n",
            "9\n"
          ]
        }
      ]
    },
    {
      "cell_type": "markdown",
      "source": [
        "# 28/04/2024 | Cats and a Mouse"
      ],
      "metadata": {
        "id": "9_tCpISaOgqN"
      }
    },
    {
      "cell_type": "code",
      "source": [
        "#!/bin/python3\n",
        "\n",
        "import math\n",
        "import os\n",
        "import random\n",
        "import re\n",
        "import sys\n",
        "\n",
        "# Complete the catAndMouse function below.\n",
        "def catAndMouse(x, y, z):\n",
        "  if abs(x - z) < abs(y - z):\n",
        "    return 'Cat A'\n",
        "  elif abs(x - z) > abs(y - z):\n",
        "    return 'Cat B'\n",
        "  else:\n",
        "    return 'Mouse C'\n",
        "\n",
        "q = int(input())\n",
        "for q_itr in range(q):\n",
        "  xyz = input().split()\n",
        "  x = int(xyz[0])\n",
        "  y = int(xyz[1])\n",
        "  z = int(xyz[2])\n",
        "  result = catAndMouse(x, y, z)\n",
        "  print(result)\n"
      ],
      "metadata": {
        "id": "TMdK5WK0Omwu",
        "outputId": "48dc4e01-a0fc-4ef0-ea56-27670812fc33",
        "colab": {
          "base_uri": "https://localhost:8080/"
        }
      },
      "execution_count": null,
      "outputs": [
        {
          "output_type": "stream",
          "name": "stdout",
          "text": [
            "2\n",
            "1 2 3\n",
            "Cat B\n",
            "1 3 2\n",
            "Mouse C\n"
          ]
        }
      ]
    },
    {
      "cell_type": "markdown",
      "source": [
        "# 28/04/2024 | Picking Numbers"
      ],
      "metadata": {
        "id": "jmJRWqIFQc1d"
      }
    },
    {
      "cell_type": "code",
      "source": [
        "#!/bin/python3\n",
        "\n",
        "import math\n",
        "import os\n",
        "import random\n",
        "import re\n",
        "import sys\n",
        "\n",
        "#\n",
        "# Complete the 'pickingNumbers' function below.\n",
        "#\n",
        "# The function is expected to return an INTEGER.\n",
        "# The function accepts INTEGER_ARRAY a as parameter.\n",
        "#\n",
        "\n",
        "def pickingNumbers(a):\n",
        "  a.sort()\n",
        "  cur_array = []\n",
        "  max_array_len = 0\n",
        "  for num in a:\n",
        "    if len(cur_array) > 0 and abs(num - min(cur_array)) <= 1 and abs(num - max(cur_array) <= 1):\n",
        "      cur_array.append(num)\n",
        "      max_array_len = max(len(cur_array), max_array_len)\n",
        "    else:\n",
        "      max_array_len = max(len(cur_array), max_array_len)\n",
        "      cur_array = [num]\n",
        "  return max_array_len\n",
        "\n",
        "\n",
        "n = int(input().strip())\n",
        "a = list(map(int, input().rstrip().split()))\n",
        "result = pickingNumbers(a)\n",
        "print(result)\n"
      ],
      "metadata": {
        "id": "rEyJsuJzQcHl",
        "outputId": "cd0a4d8c-7742-47e0-c7c7-e827881f6896",
        "colab": {
          "base_uri": "https://localhost:8080/"
        }
      },
      "execution_count": null,
      "outputs": [
        {
          "output_type": "stream",
          "name": "stdout",
          "text": [
            "6\n",
            "1 2 2 3 1 2\n",
            "5\n"
          ]
        }
      ]
    },
    {
      "cell_type": "markdown",
      "source": [
        "# 29/04/2024 | Extra Long Factorials"
      ],
      "metadata": {
        "id": "_PNnjVZc6aGs"
      }
    },
    {
      "cell_type": "code",
      "source": [
        "import math\n",
        "import os\n",
        "import random\n",
        "import re\n",
        "import sys\n",
        "\n",
        "#\n",
        "# Complete the 'extraLongFactorials' function below.\n",
        "#\n",
        "# The function accepts INTEGER n as parameter.\n",
        "#\n",
        "\n",
        "def extraLongFactorials(n):\n",
        "  fatorial = 1\n",
        "  for i in range(1, n+1):\n",
        "    fatorial *= i\n",
        "  print(fatorial)\n",
        "\n",
        "n = int(input().strip())\n",
        "extraLongFactorials(n)\n"
      ],
      "metadata": {
        "id": "9_Z-4TVQ6fdH",
        "outputId": "da657d00-3a32-400c-c831-4578e33e3598",
        "colab": {
          "base_uri": "https://localhost:8080/"
        }
      },
      "execution_count": null,
      "outputs": [
        {
          "output_type": "stream",
          "name": "stdout",
          "text": [
            "25\n",
            "15511210043330985984000000\n"
          ]
        }
      ]
    },
    {
      "cell_type": "markdown",
      "source": [
        "# 29/04/2024 | Encryption"
      ],
      "metadata": {
        "id": "ac4eHcN-81RE"
      }
    },
    {
      "cell_type": "code",
      "source": [
        "#!/bin/python3\n",
        "\n",
        "import math\n",
        "import os\n",
        "import random\n",
        "import re\n",
        "import sys\n",
        "import math\n",
        "\n",
        "\n",
        "#\n",
        "# Complete the 'encryption' function below.\n",
        "#\n",
        "# The function is expected to return a STRING.\n",
        "# The function accepts STRING s as parameter.\n",
        "#\n",
        "\n",
        "def encryption(s):\n",
        "  encrypted_text = ''\n",
        "  rows_len = math.floor(math.sqrt(len(s)))\n",
        "  columns_len = math.ceil(math.sqrt(len(s)))\n",
        "  while (rows_len*columns_len) < len(s):\n",
        "    rows_len += 1\n",
        "  for idx in range(rows_len * columns_len):\n",
        "    encrypted_text += s[idx] if idx < len(s) else '#'\n",
        "    encrypted_text += f'\\n' if (idx+1) % columns_len == 0 and (idx+1) < len(s) else ''\n",
        "  encrypted_rows = encrypted_text.split('\\n')\n",
        "  encrypted_text = ''\n",
        "  for i in range(columns_len):\n",
        "    for j in range(rows_len):\n",
        "      encrypted_text += encrypted_rows[j][i] if encrypted_rows[j][i] != '#' else ''\n",
        "      encrypted_text += ' ' if (j+1) % rows_len == 0 else ''\n",
        "  return encrypted_text\n",
        "\n",
        "\n",
        "s = input()\n",
        "result = encryption(s)\n",
        "print(result)"
      ],
      "metadata": {
        "id": "Tll89qLz85FJ",
        "outputId": "5601bb73-62bf-431a-cada-22f41e8e3b1d",
        "colab": {
          "base_uri": "https://localhost:8080/"
        }
      },
      "execution_count": null,
      "outputs": [
        {
          "output_type": "stream",
          "name": "stdout",
          "text": [
            "chillout\n",
            "clu hlt io \n"
          ]
        }
      ]
    }
  ]
}